{
 "cells": [
  {
   "cell_type": "markdown",
   "metadata": {},
   "source": [
    "# Diccionarios"
   ]
  },
  {
   "cell_type": "markdown",
   "metadata": {},
   "source": [
    "Ejercicio 1"
   ]
  },
  {
   "cell_type": "code",
   "execution_count": 82,
   "metadata": {},
   "outputs": [
    {
     "data": {
      "text/plain": [
       "{'manzana': 2, 'banana': 5, 'uva': 5, 'pera': 4}"
      ]
     },
     "execution_count": 82,
     "metadata": {},
     "output_type": "execute_result"
    }
   ],
   "source": [
    "frutas = {\"manzana\": 2, \"banana\": 5, \"uva\": 5, \"pera\": 4}\n",
    "frutas"
   ]
  },
  {
   "cell_type": "markdown",
   "metadata": {},
   "source": [
    "Ejercicio 2"
   ]
  },
  {
   "cell_type": "code",
   "execution_count": 3,
   "metadata": {},
   "outputs": [
    {
     "name": "stdout",
     "output_type": "stream",
     "text": [
      "['manzana', 'banana', 'uva', 'pera']\n"
     ]
    }
   ],
   "source": [
    "print(list(frutas))"
   ]
  },
  {
   "cell_type": "code",
   "execution_count": 83,
   "metadata": {},
   "outputs": [
    {
     "data": {
      "text/plain": [
       "['manzana', 'banana', 'uva', 'pera']"
      ]
     },
     "execution_count": 83,
     "metadata": {},
     "output_type": "execute_result"
    }
   ],
   "source": [
    "list(frutas.keys())"
   ]
  },
  {
   "cell_type": "code",
   "execution_count": 84,
   "metadata": {},
   "outputs": [
    {
     "data": {
      "text/plain": [
       "[2, 5, 5, 4]"
      ]
     },
     "execution_count": 84,
     "metadata": {},
     "output_type": "execute_result"
    }
   ],
   "source": [
    "list(frutas.values())"
   ]
  },
  {
   "cell_type": "markdown",
   "metadata": {},
   "source": [
    "Ejercicio 3"
   ]
  },
  {
   "cell_type": "code",
   "execution_count": 6,
   "metadata": {},
   "outputs": [
    {
     "name": "stdout",
     "output_type": "stream",
     "text": [
      "4\n"
     ]
    }
   ],
   "source": [
    "print(len(frutas))"
   ]
  },
  {
   "cell_type": "markdown",
   "metadata": {},
   "source": [
    "Ejercicio 4"
   ]
  },
  {
   "cell_type": "code",
   "execution_count": 85,
   "metadata": {},
   "outputs": [
    {
     "data": {
      "text/plain": [
       "2"
      ]
     },
     "execution_count": 85,
     "metadata": {},
     "output_type": "execute_result"
    }
   ],
   "source": [
    "frutas.setdefault(\"manzana\",\"no existe\")"
   ]
  },
  {
   "cell_type": "markdown",
   "metadata": {},
   "source": [
    "Ejercicio 5"
   ]
  },
  {
   "cell_type": "code",
   "execution_count": 8,
   "metadata": {},
   "outputs": [
    {
     "data": {
      "text/plain": [
       "{'manzana': 2, 'banana': 5, 'uva': 5, 'pera': 4, 'kiwi': 6}"
      ]
     },
     "execution_count": 8,
     "metadata": {},
     "output_type": "execute_result"
    }
   ],
   "source": [
    "nuevo_elemento = {\"kiwi\": 6}\n",
    "frutas.update(nuevo_elemento)\n",
    "frutas"
   ]
  },
  {
   "cell_type": "markdown",
   "metadata": {},
   "source": [
    "Ejercicio 6"
   ]
  },
  {
   "cell_type": "code",
   "execution_count": 9,
   "metadata": {},
   "outputs": [
    {
     "data": {
      "text/plain": [
       "{'manzana': 2, 'banana': 5, 'uva': 8, 'pera': 4, 'kiwi': 6}"
      ]
     },
     "execution_count": 9,
     "metadata": {},
     "output_type": "execute_result"
    }
   ],
   "source": [
    "frutas[\"uva\"] = 8\n",
    "frutas"
   ]
  },
  {
   "cell_type": "markdown",
   "metadata": {},
   "source": [
    "Ejercicio 7"
   ]
  },
  {
   "cell_type": "code",
   "execution_count": 10,
   "metadata": {},
   "outputs": [
    {
     "data": {
      "text/plain": [
       "{'sandia': 7, 'mango': 4}"
      ]
     },
     "execution_count": 10,
     "metadata": {},
     "output_type": "execute_result"
    }
   ],
   "source": [
    "frutas_nuevas = {\"sandia\": 7, \"mango\": 4}\n",
    "frutas_nuevas"
   ]
  },
  {
   "cell_type": "markdown",
   "metadata": {},
   "source": [
    "Ejercicio 8"
   ]
  },
  {
   "cell_type": "code",
   "execution_count": 11,
   "metadata": {},
   "outputs": [
    {
     "name": "stdout",
     "output_type": "stream",
     "text": [
      "{'manzana': 2, 'banana': 5, 'uva': 8, 'pera': 4, 'kiwi': 6, 'sandia': 7, 'mango': 4}\n"
     ]
    }
   ],
   "source": [
    "frutas_total = frutas | frutas_nuevas\n",
    "print(frutas_total)"
   ]
  },
  {
   "cell_type": "markdown",
   "metadata": {},
   "source": [
    "Ejercicio 9"
   ]
  },
  {
   "cell_type": "code",
   "execution_count": 13,
   "metadata": {},
   "outputs": [
    {
     "data": {
      "text/plain": [
       "{'manzana': 2, 'banana': 5, 'uva': 8, 'pera': 4, 'kiwi': 6, 'sandia': 7}"
      ]
     },
     "execution_count": 13,
     "metadata": {},
     "output_type": "execute_result"
    }
   ],
   "source": [
    "frutas_total.popitem()\n",
    "frutas_total"
   ]
  },
  {
   "cell_type": "markdown",
   "metadata": {},
   "source": [
    "Ejercicio 10"
   ]
  },
  {
   "cell_type": "code",
   "execution_count": 14,
   "metadata": {},
   "outputs": [
    {
     "data": {
      "text/plain": [
       "{'manzana': 2, 'banana': 5, 'pera': 4, 'kiwi': 6, 'sandia': 7}"
      ]
     },
     "execution_count": 14,
     "metadata": {},
     "output_type": "execute_result"
    }
   ],
   "source": [
    "frutas_total.pop(\"uva\")\n",
    "frutas_total"
   ]
  },
  {
   "cell_type": "markdown",
   "metadata": {},
   "source": [
    "Ejercicio 11"
   ]
  },
  {
   "cell_type": "code",
   "execution_count": 86,
   "metadata": {},
   "outputs": [
    {
     "data": {
      "text/plain": [
       "{'manzana': 2, 'banana': 5, 'pera': 4, 'kiwi': 6, 'sandia': 7}"
      ]
     },
     "execution_count": 86,
     "metadata": {},
     "output_type": "execute_result"
    }
   ],
   "source": [
    "frutas_total.setdefault(\"manzana\", 10)\n",
    "frutas_total"
   ]
  },
  {
   "cell_type": "markdown",
   "metadata": {},
   "source": [
    "Ejercicio 12"
   ]
  },
  {
   "cell_type": "code",
   "execution_count": 22,
   "metadata": {},
   "outputs": [
    {
     "data": {
      "text/plain": [
       "[2, 5, 4, 6, 7]"
      ]
     },
     "execution_count": 22,
     "metadata": {},
     "output_type": "execute_result"
    }
   ],
   "source": [
    "lista = list(frutas_total.values())\n",
    "lista"
   ]
  },
  {
   "cell_type": "code",
   "execution_count": 23,
   "metadata": {},
   "outputs": [
    {
     "data": {
      "text/plain": [
       "24"
      ]
     },
     "execution_count": 23,
     "metadata": {},
     "output_type": "execute_result"
    }
   ],
   "source": [
    "sum(lista)"
   ]
  },
  {
   "cell_type": "markdown",
   "metadata": {},
   "source": [
    "# Sentencias de control"
   ]
  },
  {
   "cell_type": "markdown",
   "metadata": {},
   "source": [
    "Ejercicio 1"
   ]
  },
  {
   "cell_type": "code",
   "execution_count": 27,
   "metadata": {},
   "outputs": [
    {
     "name": "stdout",
     "output_type": "stream",
     "text": [
      "80 Eres adulto mayor\n"
     ]
    }
   ],
   "source": [
    "edad = int(input(\"Ingresar edad: \"))\n",
    "\n",
    "if edad < 18:\n",
    "    mensaje = \"Eres menor de edad\"\n",
    "elif edad >= 18 and edad <= 65:\n",
    "    mensaje = \"Eres adulto\"\n",
    "else:\n",
    "    mensaje = \"Eres adulto mayor\"\n",
    "print(edad, mensaje) "
   ]
  },
  {
   "cell_type": "markdown",
   "metadata": {},
   "source": [
    "Ejercicio 2"
   ]
  },
  {
   "cell_type": "code",
   "execution_count": 88,
   "metadata": {},
   "outputs": [
    {
     "name": "stdout",
     "output_type": "stream",
     "text": [
      "Ingrese un numero del 1 al 7\n"
     ]
    }
   ],
   "source": [
    "dia_semana = input(\"Ingresa un numero del 1 al 7, representando el dia de la semana (1 = Lunes)\")\n",
    "\n",
    "if dia_semana == \"1\":\n",
    "    print(\"Es lunes\")\n",
    "elif dia_semana == \"2\":\n",
    "    print(\"es martes\")\n",
    "elif dia_semana == \"3\":\n",
    "    print(\"es miércoles\")\n",
    "elif dia_semana == \"4\":\n",
    "    print(\"es jueves\")\n",
    "elif dia_semana == \"5\":\n",
    "    print(\"es viernes\")\n",
    "elif dia_semana == \"6\":\n",
    "    print(\"es sabado\")\n",
    "elif dia_semana == \"7\":\n",
    "    print(\"es domingo\")\n",
    "else:\n",
    "    print(\"Ingrese un numero del 1 al 7\")\n"
   ]
  },
  {
   "cell_type": "markdown",
   "metadata": {},
   "source": [
    "Ejercicio 3"
   ]
  },
  {
   "cell_type": "code",
   "execution_count": 31,
   "metadata": {},
   "outputs": [
    {
     "name": "stdout",
     "output_type": "stream",
     "text": [
      "91\n",
      "Es un poco más grande\n",
      "Intenta de nuevo\n",
      "Es un poco más grande\n",
      "Intenta de nuevo\n",
      "Es un poco más chico\n",
      "Intenta de nuevo\n",
      "Lo lograste!, te llevó 3 intentos\n"
     ]
    }
   ],
   "source": [
    "import random\n",
    "\n",
    "numero_aleatorio = random.randint(1, 100)\n",
    "print(numero_aleatorio)\n",
    "contador = 0\n",
    "intento1 = 1\n",
    "adivino = True\n",
    "\n",
    "while adivino:\n",
    "    consigna = int(input(\"Adivina un número entre el 1 y el 100\"))\n",
    "    if consigna == numero_aleatorio and consigna == intento1:\n",
    "        print(\"Ganaste en el primer intento!\")\n",
    "        adivino = False\n",
    "    elif consigna != numero_aleatorio:\n",
    "        contador += 1\n",
    "        if consigna < numero_aleatorio:\n",
    "            print(\"Es un poco más grande\")\n",
    "        elif consigna > numero_aleatorio:\n",
    "            print(\"Es un poco más chico\")\n",
    "        print(\"Intenta de nuevo\")\n",
    "    elif consigna == numero_aleatorio:\n",
    "        print(\"Lo lograste! Te llevó\", contador, \"intentos\")\n",
    "        adivino = False"
   ]
  },
  {
   "cell_type": "markdown",
   "metadata": {},
   "source": [
    "Ejercicio 4"
   ]
  },
  {
   "cell_type": "code",
   "execution_count": null,
   "metadata": {},
   "outputs": [],
   "source": [
    "palabra_secreta1 = \"Sol\"\n",
    "terminar_juego = True\n",
    "\n",
    "\n",
    "while terminar_juego:\n",
    "    jugador1 = input(\"Adivina la palabra secreta, ingresa una letra\")\n",
    "    jugador = jugador1.lower()\n",
    "    print(jugador, \"***\")\n",
    "    if jugador not in palabra_secreta1:\n",
    "        print(jugador, \"Esa letra no está, pierdes una vida. Adivina otra\")\n",
    "    elif jugador == \"s\":\n",
    "        print(jugador, \"Esta en la palabra, adivina otra letra\")\n",
    "        print(\"S**\")\n",
    "    elif jugador == \"o\":\n",
    "        print(jugador, \"Esta en la palabra\")\n",
    "        print(\"*o*\")\n",
    "        \n",
    "    \n",
    "\n"
   ]
  },
  {
   "cell_type": "code",
   "execution_count": 90,
   "metadata": {},
   "outputs": [
    {
     "data": {
      "text/plain": [
       "['Sol']"
      ]
     },
     "execution_count": 90,
     "metadata": {},
     "output_type": "execute_result"
    }
   ],
   "source": [
    "palabra_secreta1.split(\" \")"
   ]
  },
  {
   "cell_type": "code",
   "execution_count": null,
   "metadata": {},
   "outputs": [],
   "source": [
    "# elegir una palabra secreta y guardarla en alguna estructura\n",
    "# dividirla en letras\n",
    "# guardarla en una lista?\n",
    "#convertir cada letra en un *\n",
    "#input para pedir al usuario la letra y almacenarlo en una variable\n",
    "#corroborar que la letra estee en la palabra\n",
    "# si la letra esta en la palabra, la guardo en una lista, en el indice correspondiente, de letras adivinadas\n",
    "#si la letra no esta en la palabra, guardarla en una estructura de letras falladas\n",
    "\n",
    "palabra_secreta = 'casa'\n",
    "# tenemos que conseguir el siguiente output\n",
    "palabra_secreta_letras = [\"c\", 'a', 's', 'a']\n",
    "\n",
    "letra_usuario = input(\"Adivina una letra\")\n",
    "\n",
    "if letra_usuario...."
   ]
  },
  {
   "cell_type": "code",
   "execution_count": null,
   "metadata": {},
   "outputs": [],
   "source": [
    "palabra = \"Sol\"\n",
    "adivinanza = input(\"Adivina la palabra, ingresa una letra\")\n",
    "palabra_secreta = \"***\"\n",
    "\n",
    "if adivinanza in palabra_secreta:\n",
    "    "
   ]
  },
  {
   "cell_type": "markdown",
   "metadata": {},
   "source": [
    "# Sets"
   ]
  },
  {
   "cell_type": "markdown",
   "metadata": {},
   "source": [
    "Ejercicio 1"
   ]
  },
  {
   "cell_type": "code",
   "execution_count": 38,
   "metadata": {},
   "outputs": [
    {
     "data": {
      "text/plain": [
       "{1, 2, 3, 4, 5}"
      ]
     },
     "execution_count": 38,
     "metadata": {},
     "output_type": "execute_result"
    }
   ],
   "source": [
    "conjunto1 = {1,2,3,4,5}\n",
    "conjunto1"
   ]
  },
  {
   "cell_type": "markdown",
   "metadata": {},
   "source": [
    "Ejercicio 2"
   ]
  },
  {
   "cell_type": "code",
   "execution_count": 37,
   "metadata": {},
   "outputs": [
    {
     "data": {
      "text/plain": [
       "{4, 5, 6, 7, 8}"
      ]
     },
     "execution_count": 37,
     "metadata": {},
     "output_type": "execute_result"
    }
   ],
   "source": [
    "conjunto2 = {4,5,6,7,8}\n",
    "conjunto2"
   ]
  },
  {
   "cell_type": "markdown",
   "metadata": {},
   "source": [
    "Ejercicio 3"
   ]
  },
  {
   "cell_type": "code",
   "execution_count": 39,
   "metadata": {},
   "outputs": [
    {
     "data": {
      "text/plain": [
       "{1, 2, 3, 4, 5, 6, 7, 8}"
      ]
     },
     "execution_count": 39,
     "metadata": {},
     "output_type": "execute_result"
    }
   ],
   "source": [
    "conjunto3 = conjunto1.union(conjunto2)\n",
    "conjunto3"
   ]
  },
  {
   "cell_type": "markdown",
   "metadata": {},
   "source": [
    "Ejercicio 4"
   ]
  },
  {
   "cell_type": "code",
   "execution_count": 40,
   "metadata": {},
   "outputs": [
    {
     "data": {
      "text/plain": [
       "{4, 5}"
      ]
     },
     "execution_count": 40,
     "metadata": {},
     "output_type": "execute_result"
    }
   ],
   "source": [
    "#elementos en comun\n",
    "\n",
    "conjunto3 = conjunto1.intersection(conjunto2)\n",
    "conjunto3"
   ]
  },
  {
   "cell_type": "markdown",
   "metadata": {},
   "source": [
    "Ejercicio 5"
   ]
  },
  {
   "cell_type": "code",
   "execution_count": 41,
   "metadata": {},
   "outputs": [
    {
     "data": {
      "text/plain": [
       "{1, 2, 3}"
      ]
     },
     "execution_count": 41,
     "metadata": {},
     "output_type": "execute_result"
    }
   ],
   "source": [
    "conjunto3 = conjunto1.difference(conjunto2)\n",
    "conjunto3"
   ]
  },
  {
   "cell_type": "markdown",
   "metadata": {},
   "source": [
    "# Tuplas"
   ]
  },
  {
   "cell_type": "markdown",
   "metadata": {},
   "source": [
    "Ejercicio1"
   ]
  },
  {
   "cell_type": "code",
   "execution_count": 43,
   "metadata": {},
   "outputs": [
    {
     "data": {
      "text/plain": [
       "('rojo', 'verde', 'azul', 'amarillo')"
      ]
     },
     "execution_count": 43,
     "metadata": {},
     "output_type": "execute_result"
    }
   ],
   "source": [
    "colores = \"rojo\", \"verde\", \"azul\", \"amarillo\"\n",
    "colores"
   ]
  },
  {
   "cell_type": "markdown",
   "metadata": {},
   "source": [
    "Ejercicio2"
   ]
  },
  {
   "cell_type": "code",
   "execution_count": 44,
   "metadata": {},
   "outputs": [
    {
     "data": {
      "text/plain": [
       "1"
      ]
     },
     "execution_count": 44,
     "metadata": {},
     "output_type": "execute_result"
    }
   ],
   "source": [
    "colores.index(\"verde\")"
   ]
  },
  {
   "cell_type": "markdown",
   "metadata": {},
   "source": [
    "Ejercicio3"
   ]
  },
  {
   "cell_type": "code",
   "execution_count": 45,
   "metadata": {},
   "outputs": [
    {
     "data": {
      "text/plain": [
       "1"
      ]
     },
     "execution_count": 45,
     "metadata": {},
     "output_type": "execute_result"
    }
   ],
   "source": [
    "colores.count(\"azul\")"
   ]
  },
  {
   "cell_type": "markdown",
   "metadata": {},
   "source": [
    "Ejercicio4"
   ]
  },
  {
   "cell_type": "code",
   "execution_count": 46,
   "metadata": {},
   "outputs": [
    {
     "data": {
      "text/plain": [
       "['rojo', 'verde', 'azul', 'amarillo', 'morado']"
      ]
     },
     "execution_count": 46,
     "metadata": {},
     "output_type": "execute_result"
    }
   ],
   "source": [
    "lista = list(colores)\n",
    "lista.append(\"morado\")\n",
    "lista"
   ]
  },
  {
   "cell_type": "markdown",
   "metadata": {},
   "source": [
    "# Listas"
   ]
  },
  {
   "cell_type": "markdown",
   "metadata": {},
   "source": [
    "Ejercicio1"
   ]
  },
  {
   "cell_type": "code",
   "execution_count": 51,
   "metadata": {},
   "outputs": [
    {
     "name": "stdout",
     "output_type": "stream",
     "text": [
      "['manzana', 'durazno', 'banana', 'uva', 'kiwi']\n"
     ]
    },
    {
     "data": {
      "text/plain": [
       "'uva'"
      ]
     },
     "execution_count": 51,
     "metadata": {},
     "output_type": "execute_result"
    }
   ],
   "source": [
    "frutas = ['manzana', 'pera', 'banana', 'uva', 'kiwi']\n",
    "frutas.remove(\"pera\")\n",
    "frutas.insert(1, \"durazno\")\n",
    "print(frutas)\n",
    "\n",
    "frutas[3]"
   ]
  },
  {
   "cell_type": "markdown",
   "metadata": {},
   "source": [
    "Ejercicio2"
   ]
  },
  {
   "cell_type": "code",
   "execution_count": 53,
   "metadata": {},
   "outputs": [
    {
     "data": {
      "text/plain": [
       "[10, 25, 15, 30, 20]"
      ]
     },
     "execution_count": 53,
     "metadata": {},
     "output_type": "execute_result"
    }
   ],
   "source": [
    "numeros = [10, 25, 15, 30, 20]\n",
    "numeros"
   ]
  },
  {
   "cell_type": "markdown",
   "metadata": {},
   "source": [
    "Ejercicio3"
   ]
  },
  {
   "cell_type": "code",
   "execution_count": 54,
   "metadata": {},
   "outputs": [
    {
     "data": {
      "text/plain": [
       "[10, 25, 15, 30, 20, 35]"
      ]
     },
     "execution_count": 54,
     "metadata": {},
     "output_type": "execute_result"
    }
   ],
   "source": [
    "numeros.append(35)\n",
    "numeros"
   ]
  },
  {
   "cell_type": "markdown",
   "metadata": {},
   "source": [
    "Ejercicio4"
   ]
  },
  {
   "cell_type": "code",
   "execution_count": 56,
   "metadata": {},
   "outputs": [
    {
     "data": {
      "text/plain": [
       "[10, 15, 20, 25, 30, 35]"
      ]
     },
     "execution_count": 56,
     "metadata": {},
     "output_type": "execute_result"
    }
   ],
   "source": [
    "numeros.sort()\n",
    "numeros"
   ]
  },
  {
   "cell_type": "markdown",
   "metadata": {},
   "source": [
    "Ejercicio5"
   ]
  },
  {
   "cell_type": "code",
   "execution_count": 57,
   "metadata": {},
   "outputs": [
    {
     "data": {
      "text/plain": [
       "[10, 15, 20, 25, 30, 35, 45, 22, 19, 38, 29]"
      ]
     },
     "execution_count": 57,
     "metadata": {},
     "output_type": "execute_result"
    }
   ],
   "source": [
    "numeros2 = [45, 22, 19, 38, 29]\n",
    "numeros3 = numeros + numeros2\n",
    "numeros3"
   ]
  },
  {
   "cell_type": "markdown",
   "metadata": {},
   "source": [
    "Ejercicio6"
   ]
  },
  {
   "cell_type": "code",
   "execution_count": 58,
   "metadata": {},
   "outputs": [
    {
     "data": {
      "text/plain": [
       "[10, 15, 20, 25, 30, 35, 45, 22, 19, 38]"
      ]
     },
     "execution_count": 58,
     "metadata": {},
     "output_type": "execute_result"
    }
   ],
   "source": [
    "numeros3.pop()\n",
    "numeros3"
   ]
  },
  {
   "cell_type": "markdown",
   "metadata": {},
   "source": [
    "Ejercicio7"
   ]
  },
  {
   "cell_type": "code",
   "execution_count": 60,
   "metadata": {},
   "outputs": [
    {
     "data": {
      "text/plain": [
       "[10, 15, 20, 25, 35, 45, 22, 19, 38]"
      ]
     },
     "execution_count": 60,
     "metadata": {},
     "output_type": "execute_result"
    }
   ],
   "source": [
    "numeros3.remove(30)\n",
    "numeros3"
   ]
  },
  {
   "cell_type": "markdown",
   "metadata": {},
   "source": [
    "# Strings"
   ]
  },
  {
   "cell_type": "markdown",
   "metadata": {},
   "source": [
    "Ejercicio1"
   ]
  },
  {
   "cell_type": "code",
   "execution_count": 64,
   "metadata": {},
   "outputs": [
    {
     "data": {
      "text/plain": [
       "1"
      ]
     },
     "execution_count": 64,
     "metadata": {},
     "output_type": "execute_result"
    }
   ],
   "source": [
    "cadena = \"Python es un leguaje de programacion muy popular\"\n",
    "buscar = input(\"Que letra quieres contar cuantas veces aparece\")\n",
    "cadena.count(buscar)"
   ]
  },
  {
   "cell_type": "markdown",
   "metadata": {},
   "source": [
    "Ejercicio2"
   ]
  },
  {
   "cell_type": "code",
   "execution_count": 69,
   "metadata": {},
   "outputs": [
    {
     "name": "stdout",
     "output_type": "stream",
     "text": [
      "Pyhon es genial. Java es facil de aprender\n"
     ]
    }
   ],
   "source": [
    "cadena = \"Pyhon es genial. Python es facil de aprender\"\n",
    "cambiar = input(\"Que palabra quieres cambiar\")\n",
    "reemplazar = input(\"Por cual la quieres reemplazar\")\n",
    "\n",
    "cambiado = cadena.replace(cambiar, reemplazar)\n",
    "print(cambiado)"
   ]
  },
  {
   "cell_type": "markdown",
   "metadata": {},
   "source": [
    "Ejercicio3"
   ]
  },
  {
   "cell_type": "code",
   "execution_count": 74,
   "metadata": {},
   "outputs": [
    {
     "name": "stdout",
     "output_type": "stream",
     "text": [
      "['Esto', 'es', 'una', 'oracion', 'de', 'ejemplo']\n",
      "Esto es una oracion de ejemplo\n"
     ]
    }
   ],
   "source": [
    "oracion = \"Esto es una oracion de ejemplo\"\n",
    "separado = oracion.split()\n",
    "print(separado)\n",
    "junto = \" \".join(separado)\n",
    "print(junto)\n"
   ]
  },
  {
   "cell_type": "markdown",
   "metadata": {},
   "source": [
    "Ejercicio4"
   ]
  },
  {
   "cell_type": "code",
   "execution_count": 77,
   "metadata": {},
   "outputs": [
    {
     "data": {
      "text/plain": [
       "7"
      ]
     },
     "execution_count": 77,
     "metadata": {},
     "output_type": "execute_result"
    }
   ],
   "source": [
    "cadena = \"esta es una cadena con cinco palabras\"\n",
    "separado = cadena.split()\n",
    "len(separado)"
   ]
  },
  {
   "cell_type": "markdown",
   "metadata": {},
   "source": [
    "Ejercicio5"
   ]
  },
  {
   "cell_type": "code",
   "execution_count": 80,
   "metadata": {},
   "outputs": [
    {
     "name": "stdout",
     "output_type": "stream",
     "text": [
      "said oneub aloh\n"
     ]
    }
   ],
   "source": [
    "texto = input(\"Ingrese el texto\")\n",
    "invertido = texto[::-1]\n",
    "print(invertido)"
   ]
  },
  {
   "cell_type": "markdown",
   "metadata": {},
   "source": [
    "Ejercicio6"
   ]
  },
  {
   "cell_type": "code",
   "execution_count": 8,
   "metadata": {},
   "outputs": [
    {
     "data": {
      "text/plain": [
       "5"
      ]
     },
     "execution_count": 8,
     "metadata": {},
     "output_type": "execute_result"
    }
   ],
   "source": [
    "palabra = input('Que palabra desea buscar?')\n",
    "texto = \"hola soy franca\"\n",
    "\n",
    "texto.index(palabra)"
   ]
  }
 ],
 "metadata": {
  "kernelspec": {
   "display_name": "Python 3",
   "language": "python",
   "name": "python3"
  },
  "language_info": {
   "codemirror_mode": {
    "name": "ipython",
    "version": 3
   },
   "file_extension": ".py",
   "mimetype": "text/x-python",
   "name": "python",
   "nbconvert_exporter": "python",
   "pygments_lexer": "ipython3",
   "version": "3.11.5"
  }
 },
 "nbformat": 4,
 "nbformat_minor": 2
}
