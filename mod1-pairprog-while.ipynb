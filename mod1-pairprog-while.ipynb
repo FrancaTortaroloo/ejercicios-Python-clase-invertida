{
 "cells": [
  {
   "cell_type": "markdown",
   "metadata": {},
   "source": [
    "Calcular la suma de los primeros 10 números naturales utilizando un bucle while\n",
    "Descripción: Utiliza un bucle while para calcular la suma de los primeros 10 números naturales (1 + 2 + 3 + ... + 10)."
   ]
  },
  {
   "cell_type": "code",
   "execution_count": 5,
   "metadata": {},
   "outputs": [
    {
     "name": "stdout",
     "output_type": "stream",
     "text": [
      "1\n",
      "2\n",
      "3\n",
      "4\n",
      "5\n",
      "6\n",
      "7\n",
      "8\n",
      "9\n",
      "10\n",
      "total 55\n"
     ]
    }
   ],
   "source": [
    "contador = 1\n",
    "suma = 0\n",
    "\n",
    "while contador <= 10:\n",
    "    suma += contador\n",
    "    print(contador)\n",
    "    contador += 1\n",
    "print(\"total\", suma)\n"
   ]
  },
  {
   "cell_type": "markdown",
   "metadata": {},
   "source": [
    "Juego de adivinanza utilizando un bucle while\n",
    "Descripción: Crea un juego de adivinanza en el que el jugador tiene que adivinar un número secreto (tendrá que ser entre el 0 y el 10). Utiliza un bucle while para permitir múltiples intentos hasta que el jugador adivine correctamente."
   ]
  },
  {
   "cell_type": "code",
   "execution_count": 47,
   "metadata": {},
   "outputs": [
    {
     "name": "stdout",
     "output_type": "stream",
     "text": [
      "Ese no es el número secreto. Inténtalo de nuevo.\n",
      "Ese no es el número secreto. Inténtalo de nuevo.\n",
      "Ese no es el número secreto. Inténtalo de nuevo.\n",
      "¡Adivinaste!\n"
     ]
    }
   ],
   "source": [
    "numero_secreto = 7\n",
    "adivinado = False  # Inicializamos una bandera para controlar si se ha adivinado el número\n",
    "\n",
    "while not adivinado:  # Mientras no se haya adivinado el número\n",
    "    adivinanza = int(input(\"Elige un número: \"))\n",
    "    if adivinanza == numero_secreto:\n",
    "        print('¡Adivinaste!')\n",
    "        adivinado = True  # Se actualiza la bandera indicando que se ha adivinado el número\n",
    "    else:\n",
    "        print(\"Ese no es el número secreto. Inténtalo de nuevo.\")"
   ]
  }
 ],
 "metadata": {
  "kernelspec": {
   "display_name": "Python 3",
   "language": "python",
   "name": "python3"
  },
  "language_info": {
   "codemirror_mode": {
    "name": "ipython",
    "version": 3
   },
   "file_extension": ".py",
   "mimetype": "text/x-python",
   "name": "python",
   "nbconvert_exporter": "python",
   "pygments_lexer": "ipython3",
   "version": "3.11.5"
  }
 },
 "nbformat": 4,
 "nbformat_minor": 2
}
