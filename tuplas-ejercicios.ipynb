{
 "cells": [
  {
   "cell_type": "markdown",
   "metadata": {},
   "source": [
    "- Definir tuplas\n",
    "\n",
    "  1. Crea una tupla `persona1` para juntar los siguientes datos: 61 kg, 1.54 m altura, pelo marrón, sin usar paréntesis. (Serán del tipo `int`, `float` y `str`.)\n",
    "\n",
    "  2. Crea una tupla para la `persona2` de 68 kg, 1.65 m y pelo rubio, usando paréntesis.\n",
    "\n",
    "  3. Crea una lista `talla` que recompila 'M', 42, y 39. "
   ]
  },
  {
   "cell_type": "code",
   "execution_count": 14,
   "metadata": {},
   "outputs": [
    {
     "name": "stdout",
     "output_type": "stream",
     "text": [
      "Tupla: ('61kg', '1.54m', 'pelo marron') <class 'tuple'>\n",
      "Tupla2: ('68kg', '1.65m', 'pelo rubio') <class 'tuple'>\n",
      "Lista:  ['M', 42, 39] <class 'list'>\n"
     ]
    }
   ],
   "source": [
    "persona1 = '61kg', '1.54m', 'pelo marron'\n",
    "print('Tupla:', persona1, type(persona1))\n",
    "\n",
    "persona2 = ('68kg', '1.65m', 'pelo rubio')\n",
    "print('Tupla2:', persona2, type(persona2))\n",
    "\n",
    "talla = ['M', 42, 39]\n",
    "print('Lista: ', talla, type(talla))"
   ]
  },
  {
   "cell_type": "markdown",
   "metadata": {},
   "source": [
    "  4. Convierte la lista `talla` a una tupla.\n",
    "  \n",
    "  5. Une a la tupla de `persona1` los datos en `talla`, para tener una única tupla.\n"
   ]
  },
  {
   "cell_type": "code",
   "execution_count": 17,
   "metadata": {},
   "outputs": [
    {
     "name": "stdout",
     "output_type": "stream",
     "text": [
      "Talla: ('M', 42, 39) <class 'tuple'>\n",
      "('M', 42, 39, '61kg', '1.54m', 'pelo marron') <class 'tuple'>\n"
     ]
    }
   ],
   "source": [
    "talla_tupla = tuple(talla)\n",
    "print('Talla:', talla_tupla, type(talla_tupla))\n",
    "\n",
    "unica_tupla = talla_tupla + persona1\n",
    "print(unica_tupla, type(unica_tupla))"
   ]
  },
  {
   "cell_type": "markdown",
   "metadata": {},
   "source": [
    "  6. Saca de `persona2` el contenido del tercer elemento y llámalo `color`.\n",
    "\n",
    "  7. ¿Cuántos elementos hay ahora en `persona1`? (Es decir, ¿cuál es su longitud?)"
   ]
  },
  {
   "cell_type": "code",
   "execution_count": 30,
   "metadata": {},
   "outputs": [
    {
     "name": "stdout",
     "output_type": "stream",
     "text": [
      "pelo rubio\n",
      "Longitud de persona1: 3\n"
     ]
    }
   ],
   "source": [
    "color = persona2[2]\n",
    "print(color)\n",
    "\n",
    "print('Longitud de persona1:', len(persona1))\n"
   ]
  },
  {
   "cell_type": "markdown",
   "metadata": {},
   "source": [
    "  8. Crea las variables `peso`, `altura`, `color_pelo` y llénalas con el contenido de `persona1`. Imprime `color_pelo` para comprobar el resultado. "
   ]
  },
  {
   "cell_type": "code",
   "execution_count": 42,
   "metadata": {},
   "outputs": [
    {
     "data": {
      "text/plain": [
       "' marron'"
      ]
     },
     "execution_count": 42,
     "metadata": {},
     "output_type": "execute_result"
    }
   ],
   "source": [
    "peso = \"61 \"\n",
    "altura = \"1.54 \"\n",
    "color_pelo = \" marron\"\n",
    "\n",
    "color_pelo"
   ]
  },
  {
   "cell_type": "markdown",
   "metadata": {},
   "source": [
    "  9. Crea el zip `personas` con `persona1` y `persona2`.\n",
    "\n",
    "  10. ¿Cuántas \"elementos\" tiene `personas`? ¿Por qué?\n",
    "\n",
    "  11. Crea una tupla `etiquetas` con `'peso'`, `'altura'`, y `'color_pelo'`.\n",
    "\n",
    "  12. Crea al zip de `etiquetas`, `persona1`, y `persona2`, llamado \"todo\".\n"
   ]
  },
  {
   "cell_type": "code",
   "execution_count": 47,
   "metadata": {},
   "outputs": [
    {
     "name": "stdout",
     "output_type": "stream",
     "text": [
      "[('61kg', '68kg'), ('1.54m', '1.65m'), ('pelo marron', 'pelo rubio')]\n",
      "(('6', '1', ' '), ('1', '.', 'm'), (' ', '5', 'a'))\n",
      "[]\n"
     ]
    }
   ],
   "source": [
    "personas = zip(persona1, persona2)\n",
    "print(list(personas))\n",
    "\n",
    "#print(len(personas))\n",
    "\n",
    "etiquetas = zip(peso, altura, color_pelo)\n",
    "print(tuple(etiquetas))\n",
    "\n",
    "todo = zip(etiquetas, persona1, persona2)\n",
    "print(list(todo))"
   ]
  },
  {
   "cell_type": "markdown",
   "metadata": {},
   "source": [
    "13. Ordena las propiedades de la variable `personas` alfabéticamente. ¿Puedes? ¿Por qué?"
   ]
  },
  {
   "cell_type": "code",
   "execution_count": null,
   "metadata": {},
   "outputs": [],
   "source": [
    "personas.sort()"
   ]
  }
 ],
 "metadata": {
  "kernelspec": {
   "display_name": "Python 3",
   "language": "python",
   "name": "python3"
  },
  "language_info": {
   "codemirror_mode": {
    "name": "ipython",
    "version": 3
   },
   "file_extension": ".py",
   "mimetype": "text/x-python",
   "name": "python",
   "nbconvert_exporter": "python",
   "pygments_lexer": "ipython3",
   "version": "3.11.5"
  }
 },
 "nbformat": 4,
 "nbformat_minor": 2
}
