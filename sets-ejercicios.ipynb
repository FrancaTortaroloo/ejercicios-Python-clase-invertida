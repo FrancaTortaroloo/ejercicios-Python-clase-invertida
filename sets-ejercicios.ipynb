{
 "cells": [
  {
   "cell_type": "markdown",
   "metadata": {},
   "source": [
    "- Definir sets\n",
    "\n",
    "  1. Define la *lista* \n",
    "        ```python\n",
    "        temperaturas_diciembre = [10, 10, 13, 14, 12, 15, \n",
    "                                  12, 11, 13, 17, 18, 15, \n",
    "                                  15, 17, 17, 13, 13, 11,\n",
    "                                  12, 10, 12, 14, 12, 12,\n",
    "                                  11, 12, 16, 16, 14, 17, 18]\n",
    "        ```\n",
    "  2. Conviértala en un set  llamado `diciembre`.\n",
    "\n",
    "  3. Piensa en 6 colores y almacenalos en un set llamado `colores`."
   ]
  },
  {
   "cell_type": "code",
   "execution_count": 1,
   "metadata": {},
   "outputs": [
    {
     "name": "stdout",
     "output_type": "stream",
     "text": [
      "[10, 10, 13, 14, 12, 15, 12, 11, 13, 17, 18, 15, 15, 17, 17, 13, 13, 11, 12, 10, 12, 14, 12, 12, 11, 12, 16, 16, 14, 17, 18]\n",
      "set: {10, 11, 12, 13, 14, 15, 16, 17, 18}\n",
      "set colores: {'verde', 'violeta', 'rosa', 'naranja', 'marron', 'amarillo'}\n"
     ]
    }
   ],
   "source": [
    "temperaturas_diciembre = [10, 10, 13, 14, 12, 15, 12, 11, 13, 17, 18, 15, 15, 17, 17, 13, 13, 11, 12, 10, 12, 14, 12, 12, 11, 12, 16, 16, 14, 17, 18]\n",
    "print(temperaturas_diciembre)\n",
    "temperaturas_diciembre = set(temperaturas_diciembre)\n",
    "print(f\"set: {temperaturas_diciembre}\")\n",
    "colores = {'rosa', 'amarillo', 'marron', 'verde', 'violeta', 'naranja'}\n",
    "print(f\"set colores: {colores}\")"
   ]
  },
  {
   "cell_type": "markdown",
   "metadata": {},
   "source": [
    "- Ampliar sets\n",
    "\n",
    "  4. Añade `'lila'` a `colores`.\n",
    "\n",
    "  5. Añade `'azul'`, `'rojo'`, y `'granate'` a `colores` usando `.update()`."
   ]
  },
  {
   "cell_type": "code",
   "execution_count": 2,
   "metadata": {},
   "outputs": [
    {
     "name": "stdout",
     "output_type": "stream",
     "text": [
      "{'verde', 'violeta', 'rosa', 'naranja', 'lila', 'marron', 'amarillo'}\n",
      "nuevos colores: {'verde', 'violeta', 'rojo', 'rosa', 'granate', 'naranja', 'azul', 'amarillo', 'marron', 'lila'}\n"
     ]
    }
   ],
   "source": [
    "colores.add('lila')\n",
    "print(colores)\n",
    "\n",
    "actualizacion = ['azul', 'rojo', 'granate']\n",
    "colores.update(actualizacion)\n",
    "print(f'nuevos colores: {colores}')"
   ]
  },
  {
   "cell_type": "markdown",
   "metadata": {},
   "source": [
    "- `in`, `not in`\n",
    "\n",
    "  6. Tu set de `colores`, ¿tiene `'verde'`?\n",
    "  \n",
    "  7. ¿Y tiene `'ROJO'`?"
   ]
  },
  {
   "cell_type": "code",
   "execution_count": 3,
   "metadata": {},
   "outputs": [
    {
     "name": "stdout",
     "output_type": "stream",
     "text": [
      "Esta verde en el set?: True\n",
      "Esta rojo en el set?: False\n"
     ]
    }
   ],
   "source": [
    "print(f'Esta verde en el set?: {\"verde\" in colores}')\n",
    "print(f'Esta rojo en el set?: {\"rojo\" not in colores}')"
   ]
  },
  {
   "cell_type": "markdown",
   "metadata": {},
   "source": [
    "- Copiar, borrar elementos\n",
    "\n",
    "  8. Define el set `enero` para que sea igual a `diciembre`.\n",
    "\n",
    "  9. Quita las temperaturas `17`, y `18` de `enero`."
   ]
  },
  {
   "cell_type": "code",
   "execution_count": 4,
   "metadata": {},
   "outputs": [
    {
     "name": "stdout",
     "output_type": "stream",
     "text": [
      "{10, 11, 12, 13, 14, 15, 16, 17, 18}\n",
      "{10, 11, 12, 13, 14, 15, 16, 18}\n",
      "{10, 11, 12, 13, 14, 15, 16}\n"
     ]
    }
   ],
   "source": [
    "temperaturas_enero = {10, 10, 13, 14, 12, 15, 12, 11, 13, 17, 18, 15, 15, 17, 17, 13, 13, 11, 12, 10, 12, 14, 12, 12, 11, 12, 16, 16, 14, 17, 18}\n",
    "print(temperaturas_enero)\n",
    "temperaturas_enero.remove(17)\n",
    "print(temperaturas_enero)\n",
    "temperaturas_enero.remove(18)\n",
    "print(temperaturas_enero)"
   ]
  },
  {
   "cell_type": "markdown",
   "metadata": {},
   "source": [
    "- Tamaño de un set\n",
    "\n",
    "  10. ¿Cuántas temperaturas distintas había en diciembre?\n",
    "  \n",
    "  11. ¿Y cuántas en enero?"
   ]
  },
  {
   "cell_type": "code",
   "execution_count": 7,
   "metadata": {},
   "outputs": [
    {
     "name": "stdout",
     "output_type": "stream",
     "text": [
      "Cantidad e elementos en el set de diciembre: 9\n",
      "Cantidad e elementos en el set de enero: 7\n"
     ]
    }
   ],
   "source": [
    "print(\"Cantidad e elementos en el set de diciembre:\", len(temperaturas_diciembre))\n",
    "print(\"Cantidad e elementos en el set de enero:\", len(temperaturas_enero))"
   ]
  },
  {
   "cell_type": "markdown",
   "metadata": {},
   "source": [
    "- Conjuntos con sets\n",
    "\n",
    "  12. Identifica los elementos que hay en `diciembre` que no están en `enero`.\n",
    "\n",
    "  13. Identifica los elementos que hay en `enero` que no están en `diciembre`.\n",
    "\n",
    "  14. Identifica los elementos que tienen en común `diciembre` y `enero`.\n"
   ]
  },
  {
   "cell_type": "code",
   "execution_count": 20,
   "metadata": {},
   "outputs": [
    {
     "name": "stdout",
     "output_type": "stream",
     "text": [
      "Diferencia entre diciembre y enero {17, 18}\n",
      "Diferencia entre diciembre y enero set()\n",
      "Elementos en comun: {10, 11, 12, 13, 14, 15, 16, 17, 18}\n"
     ]
    }
   ],
   "source": [
    "set_diferencia1 = temperaturas_diciembre.difference(temperaturas_enero)\n",
    "print(\"Diferencia entre diciembre y enero\", set_diferencia1)\n",
    "\n",
    "set_diferencia2 = temperaturas_enero.difference(temperaturas_diciembre)\n",
    "print(\"Diferencia entre diciembre y enero\", set_diferencia2)\n",
    "\n",
    "set_union = temperaturas_diciembre.union(temperaturas_enero)\n",
    "print(\"Elementos en comun:\", set_union)\n"
   ]
  },
  {
   "cell_type": "markdown",
   "metadata": {},
   "source": [
    " 15. Identifica la diferencia simétrica de `colores` y `{'marrón','amarillo','cyan'}`. ¿Qué significa este resultado?"
   ]
  },
  {
   "cell_type": "code",
   "execution_count": 21,
   "metadata": {},
   "outputs": [
    {
     "name": "stdout",
     "output_type": "stream",
     "text": [
      "{'verde', 'violeta', 'cyan', 'granate', 'naranja', 'azul', 'rojo', 'rosa', 'marron', 'marrón', 'lila'}\n"
     ]
    }
   ],
   "source": [
    "diferencia_simetrica = colores.symmetric_difference({'marrón','amarillo','cyan'})\n",
    "print(diferencia_simetrica)"
   ]
  },
  {
   "cell_type": "markdown",
   "metadata": {},
   "source": [
    "- Comparar sets\n",
    "\n",
    "  16. ¿Son *disjoint* `diciembre` y `enero`? ¿Por qué (no)?\n",
    "\n",
    "  17. ¿Es `{'rojo','azul'}` un superset de colores?\n",
    "  \n",
    "  18. ¿Y un subset?"
   ]
  },
  {
   "cell_type": "code",
   "execution_count": 19,
   "metadata": {},
   "outputs": [
    {
     "name": "stdout",
     "output_type": "stream",
     "text": [
      "False Porque los dos comparten algun elemento\n",
      "True : Es un super set\n",
      "False :No es un sub set\n"
     ]
    }
   ],
   "source": [
    "disjoint = temperaturas_diciembre.isdisjoint(temperaturas_enero)\n",
    "print(disjoint, \"Porque los dos comparten algun elemento\")\n",
    "\n",
    "super_set = colores.issuperset({'rojo', 'azul'})\n",
    "print(super_set, ': Es un super set')\n",
    "\n",
    "sub_set = colores.issubset({'rojo', 'azul'})\n",
    "print(sub_set, ':No es un sub set')"
   ]
  }
 ],
 "metadata": {
  "kernelspec": {
   "display_name": "Python 3",
   "language": "python",
   "name": "python3"
  },
  "language_info": {
   "codemirror_mode": {
    "name": "ipython",
    "version": 3
   },
   "file_extension": ".py",
   "mimetype": "text/x-python",
   "name": "python",
   "nbconvert_exporter": "python",
   "pygments_lexer": "ipython3",
   "version": "3.11.5"
  }
 },
 "nbformat": 4,
 "nbformat_minor": 2
}
