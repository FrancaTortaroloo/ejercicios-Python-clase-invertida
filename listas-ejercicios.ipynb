{
 "cells": [
  {
   "cell_type": "markdown",
   "metadata": {},
   "source": [
    "- Definir listas\n",
    "\n",
    "  1. Haz una lista llamada `colores` donde almacenemos los primeros 6 colores que te vengan a la mente.\n",
    "\n",
    "  2. Haz una lista llamada `buses` de las líneas de autobuses que pasan por tu casa.\n",
    "\n",
    "  3. Apunta la previsión de temperaturas máximas para todos los días de esta semana en `temperaturas`."
   ]
  },
  {
   "cell_type": "code",
   "execution_count": 3,
   "metadata": {},
   "outputs": [],
   "source": [
    "colores = [\"azul\", \"amarillo\", \"rojo\", \"verde\", \"violeta\", \"naranja\"]\n",
    "buses = [\"linea 1\", \"linea C1\"]\n",
    "temperaturas_maximas = [19, 18, 16, 20, 19, 18, 18]"
   ]
  },
  {
   "cell_type": "markdown",
   "metadata": {},
   "source": [
    "- Convertir a listas\n",
    "\n",
    "  4. Convierte tu(s) nombre(s) a una lista `nombres` de caracteres.\n",
    "  \n",
    "  5. Convierte tu(s) apellido(s) a una lista `apellidos` de caracteres."
   ]
  },
  {
   "cell_type": "code",
   "execution_count": 32,
   "metadata": {},
   "outputs": [
    {
     "name": "stdout",
     "output_type": "stream",
     "text": [
      "['F', 'r', 'a', 'n', 'c', 'a']\n",
      "['T', 'o', 'r', 't', 'a', 'r', 'o', 'l', 'o']\n"
     ]
    }
   ],
   "source": [
    "nombre = \"Franca\"\n",
    "apellido = \"Tortarolo\"\n",
    "\n",
    "\n",
    "print(list(nombre))\n",
    "print(list(apellido))\n"
   ]
  },
  {
   "cell_type": "markdown",
   "metadata": {},
   "source": [
    "- Usar `len()`, `min()`, y `max()`\n",
    "\n",
    "  6. ¿Cuántos búses pasan por tu casa?\n",
    "\n",
    "  7. ¿Cuántos caracteres hay en tu apellido(s) (inluyendo los espacios)?\n",
    "\n",
    "  8. ¿Cuáles son las temperaturas máximas (`t_max`) y mínimas (`t_min`) para esta semana?"
   ]
  },
  {
   "cell_type": "code",
   "execution_count": 13,
   "metadata": {},
   "outputs": [
    {
     "name": "stdout",
     "output_type": "stream",
     "text": [
      "Por mi casa pasan 2 buses\n",
      "Cantidad de caracteres de mi apellido: 9\n",
      "Temperatura maxima: 20 temperatura minima: 16\n"
     ]
    }
   ],
   "source": [
    "print(\"Por mi casa pasan\", len(buses), \"buses\")\n",
    "print(\"Cantidad de caracteres de mi apellido:\", len(apellido))\n",
    "print(\"Temperatura maxima:\", max(temperaturas_maximas), \"temperatura minima:\", min(temperaturas_maximas) )"
   ]
  },
  {
   "cell_type": "markdown",
   "metadata": {},
   "source": [
    "- Usar `in`, `not in`\n",
    "\n",
    "  9. Hay una 'e' en tu nombre?\n",
    "\n",
    "  10. Tienes el color 'rosa' en la lista de colores?\n",
    "  \n",
    "  11. ¿Tiene una 'x' tu nombre? (Usa `not in`)"
   ]
  },
  {
   "cell_type": "code",
   "execution_count": 20,
   "metadata": {},
   "outputs": [
    {
     "name": "stdout",
     "output_type": "stream",
     "text": [
      "Hay una e en mi nombre?\n",
      "False\n",
      "Hay color rosa en la lista de colores?\n",
      "False\n",
      "Hay una x en mi nombre?\n",
      "False\n"
     ]
    }
   ],
   "source": [
    "print('Hay una e en mi nombre?')\n",
    "print('e' in nombre)\n",
    "\n",
    "print('Hay color rosa en la lista de colores?')\n",
    "print('rosa' in colores)\n",
    "\n",
    "print('Hay una x en mi nombre?')\n",
    "print('n' not in nombre)"
   ]
  },
  {
   "cell_type": "markdown",
   "metadata": {},
   "source": [
    "- Hacer copias y borrar sus contenidos\n",
    "\n",
    "  12. Copia el contenido de `temperaturas` a `temperaturas2`, y `temperaturas3`.\n",
    "\n",
    "  13. Vacía el contenido de la variable `temperaturas2`\n",
    "\n",
    "  14. Imprime el contenido de `temperaturas` y `temperaturas2`.\n",
    "\n",
    "  15. Copia el contenido de `nombres` a `nombres2`.\n",
    "\n",
    "  16. Copia el contenido de `apellidos` a `apellidos2`."
   ]
  },
  {
   "cell_type": "code",
   "execution_count": 36,
   "metadata": {},
   "outputs": [
    {
     "name": "stdout",
     "output_type": "stream",
     "text": [
      "metodo copy2 [19, 18, 16, 20, 19, 18, 18]\n",
      "metodo copy3 [19, 18, 16, 20, 19, 18, 18]\n",
      "Método clear []\n",
      "temperaturas maximas [19, 18, 16, 20, 19, 18, 18]\n",
      "temperaturas maximas2 []\n",
      "Nombre2  ['F', 'r', 'a', 'n', 'c', 'a']\n",
      "Apellido2 ['T', 'o', 'r', 't', 'a', 'r', 'o', 'l', 'o']\n"
     ]
    }
   ],
   "source": [
    "temperaturas_maximas2 = temperaturas_maximas.copy()\n",
    "temperaturas_maximas3 = temperaturas_maximas.copy()\n",
    "\n",
    "print('metodo copy2', temperaturas_maximas2)\n",
    "print('metodo copy3', temperaturas_maximas3)\n",
    "\n",
    "temperaturas_maximas2.clear()\n",
    "print('Método clear', temperaturas_maximas2)\n",
    "print('temperaturas maximas', temperaturas_maximas)\n",
    "print('temperaturas maximas2', temperaturas_maximas2)\n",
    "\n",
    "lista_nombre = list(nombre)\n",
    "nombre2 = lista_nombre.copy()\n",
    "print('Nombre2 ', nombre2)\n",
    "\n",
    "lista_apellido = list(apellido)\n",
    "apellido2 = lista_apellido.copy()\n",
    "print(\"Apellido2\", apellido2)"
   ]
  },
  {
   "cell_type": "markdown",
   "metadata": {},
   "source": [
    "- Cambiar el orden de los contenidos\n",
    "\n",
    "  17. Ordena la variable `temperaturas3` de mayor a menor.\n",
    "\n",
    "  18. Ordena los caracteres de tu nombre y tu apellido en las listas `nombres2` y `apellidos2`. Imprime el resultado y investiga: ¿qué orden ha cogido? ¿Cómo trata las mayúsculas?"
   ]
  },
  {
   "cell_type": "code",
   "execution_count": 60,
   "metadata": {},
   "outputs": [
    {
     "name": "stdout",
     "output_type": "stream",
     "text": [
      "[20, 19, 19, 18, 18, 18, 16]\n",
      "['F', 'a', 'a', 'c', 'n', 'r']\n",
      "['T', 'a', 'l', 'o', 'o', 'o', 'r', 'r', 't']\n"
     ]
    }
   ],
   "source": [
    "temperaturas_maximas3.reverse()\n",
    "print(temperaturas_maximas3)\n",
    "\n",
    "nombre2.sort()\n",
    "print(nombre2)\n",
    "\n",
    "apellido2.sort()\n",
    "print(apellido2)"
   ]
  },
  {
   "cell_type": "markdown",
   "metadata": {},
   "source": [
    "- Contar duplicados\n",
    "\n",
    "  19. ¿Cuántas 'a' tiene tu nombre? ¿Y cuántas 'o'?\n",
    "\n",
    "  20. Verifica si los resultados de ejercicio 19 son iguales para la lista `nombres2`.\n",
    "\n",
    "  21. ¿Cuántas veces esta semana llega la temperatura a la `t_max`? ¿Y cuántas a la `t_min`?"
   ]
  },
  {
   "cell_type": "code",
   "execution_count": 73,
   "metadata": {},
   "outputs": [
    {
     "name": "stdout",
     "output_type": "stream",
     "text": [
      "Franca tiene 2 a\n",
      "Franca tiene 0 o\n",
      "Franca tiene 2 a\n",
      "Temperatura maxima: 20 temperatura minima: 16\n",
      "t_max aparece: 1 vez\n",
      "t_min aparece: 1 vez\n"
     ]
    }
   ],
   "source": [
    "print('Franca tiene', nombre.count('a'), 'a')\n",
    "print('Franca tiene', nombre.count('o'), 'o')\n",
    "\n",
    "print('Franca tiene', nombre2.count('a'), 'a')\n",
    "\n",
    "print(\"Temperatura maxima:\", max(temperaturas_maximas), \"temperatura minima:\", min(temperaturas_maximas))\n",
    "t_max = temperaturas_maximas.count(20)\n",
    "print('t_max aparece:',t_max, 'vez')\n",
    "t_min = temperaturas_maximas.count(16)\n",
    "print('t_min aparece:',t_min, 'vez')"
   ]
  },
  {
   "cell_type": "markdown",
   "metadata": {},
   "source": [
    "- Definir otra lista\n",
    "\n",
    "  22. La lista dias_en contiene 'monday', 'tuesday', 'wednesday', 'thursday', 'friday', 'saturday', y 'sunday'.\n",
    "\n",
    "  23. Define temperaturas_diciembre 👇🏽:\n",
    "    ```python\n",
    "\n",
    "      temperaturas_diciembre = [10, 10, 13, 14, 12, 15, \n",
    "                            12, 11, 13, 17, 18, 15, \n",
    "                            15, 17, 17, 13, 13, 11,\n",
    "                            12, 10, 12, 14, 12, 12,\n",
    "                            11, 12, 16, 16, 14, 17, 18]"
   ]
  },
  {
   "cell_type": "code",
   "execution_count": 75,
   "metadata": {},
   "outputs": [
    {
     "name": "stdout",
     "output_type": "stream",
     "text": [
      "['monday', 'tuesday', 'wednesday', 'thursday', 'friday', 'saturday', 'sunday'] [10, 10, 13, 14, 12, 15, 12, 11, 13, 17, 18, 15, 15, 17, 17, 13, 13, 11, 12, 10, 12, 14, 12, 12, 11, 12, 16, 16, 14, 17, 18]\n"
     ]
    }
   ],
   "source": [
    "dias_en =['monday', 'tuesday', 'wednesday', 'thursday', 'friday', 'saturday','sunday']\n",
    "temperaturas_diciembre = [10, 10, 13, 14, 12, 15, \n",
    "                            12, 11, 13, 17, 18, 15, \n",
    "                            15, 17, 17, 13, 13, 11,\n",
    "                            12, 10, 12, 14, 12, 12,\n",
    "                            11, 12, 16, 16, 14, 17, 18]\n",
    "print(dias_en, temperaturas_diciembre)\n"
   ]
  },
  {
   "cell_type": "markdown",
   "metadata": {},
   "source": [
    "- Indexación de listas\n",
    "\n",
    "  24. ¿Cuál es el penúltimo día de la semana?\n",
    "\n",
    "  25. ¿Cuál es el último elemento de la lista de temperaturas de diciembre? \n",
    "\n",
    "  27. ¿Está 'friday' en la lista de días en inglés? Si está, ¿dónde?\n",
    "\n",
    "  28. ¿Cuál era la temperatura máxima en diciembre?\n",
    "\n",
    "  29. Encuentra el índice de 'miércoles' en dias_es."
   ]
  },
  {
   "cell_type": "code",
   "execution_count": 85,
   "metadata": {},
   "outputs": [
    {
     "name": "stdout",
     "output_type": "stream",
     "text": [
      "Penultimo dia de la semana: saturday\n",
      "Ultimo elemento de la lista de t en diciembre: 18\n",
      "Esta friday en la lista?\n",
      " True\n",
      "Friday esta en la posicion: 4\n",
      "Temperatura maxima en diciembre: 18\n"
     ]
    },
    {
     "ename": "ValueError",
     "evalue": "'miercoles' is not in list",
     "output_type": "error",
     "traceback": [
      "\u001b[0;31m---------------------------------------------------------------------------\u001b[0m",
      "\u001b[0;31mValueError\u001b[0m                                Traceback (most recent call last)",
      "Cell \u001b[0;32mIn[85], line 6\u001b[0m\n\u001b[1;32m      4\u001b[0m \u001b[38;5;28mprint\u001b[39m(\u001b[38;5;124m'\u001b[39m\u001b[38;5;124mFriday esta en la posicion:\u001b[39m\u001b[38;5;124m'\u001b[39m, dias_en\u001b[38;5;241m.\u001b[39mindex(\u001b[38;5;124m'\u001b[39m\u001b[38;5;124mfriday\u001b[39m\u001b[38;5;124m'\u001b[39m))\n\u001b[1;32m      5\u001b[0m \u001b[38;5;28mprint\u001b[39m(\u001b[38;5;124m'\u001b[39m\u001b[38;5;124mTemperatura maxima en diciembre:\u001b[39m\u001b[38;5;124m'\u001b[39m, \u001b[38;5;28mmax\u001b[39m(temperaturas_diciembre))\n\u001b[0;32m----> 6\u001b[0m \u001b[38;5;28mprint\u001b[39m(\u001b[38;5;124m'\u001b[39m\u001b[38;5;124mIndice de miercoles:\u001b[39m\u001b[38;5;124m'\u001b[39m, \u001b[43mdias_en\u001b[49m\u001b[38;5;241;43m.\u001b[39;49m\u001b[43mindex\u001b[49m\u001b[43m(\u001b[49m\u001b[38;5;124;43m'\u001b[39;49m\u001b[38;5;124;43mmiercoles\u001b[39;49m\u001b[38;5;124;43m'\u001b[39;49m\u001b[43m)\u001b[49m)\n",
      "\u001b[0;31mValueError\u001b[0m: 'miercoles' is not in list"
     ]
    }
   ],
   "source": [
    "print(\"Penultimo dia de la semana:\", dias_en[-2])\n",
    "print(\"Ultimo elemento de la lista de t en diciembre:\", temperaturas_diciembre[-1])\n",
    "print('Esta friday en la lista?\\n', 'friday' in dias_en)\n",
    "print('Friday esta en la posicion:', dias_en.index('friday'))\n",
    "print('Temperatura maxima en diciembre:', max(temperaturas_diciembre))\n",
    "print('Indice de miercoles:', dias_en.index('miercoles'))"
   ]
  },
  {
   "cell_type": "markdown",
   "metadata": {},
   "source": [
    "- Bonus\n",
    "\n",
    "  30. Imprime esta frase en pantalla: 'La temperatura máxima esta semana será 14 ºC, que ocurrirá en 1 días(s). El día más frío tendrá una temperatura máxima de 10 ºC, que ocurrirá en 2 día(s).'"
   ]
  },
  {
   "cell_type": "code",
   "execution_count": 91,
   "metadata": {},
   "outputs": [
    {
     "name": "stdout",
     "output_type": "stream",
     "text": [
      "La temperatura maxima de esta semana sera 18 ºC que ocurrira en 3 dia(s). El dia mas frio\n",
      "      tendra una temperatura maxima de 10 ºC, que ocurrira en 3 dia(s)\n"
     ]
    }
   ],
   "source": [
    "t_maxx = temperaturas_diciembre.count(14)\n",
    "t_minn = temperaturas_diciembre.count(10)\n",
    "\n",
    "print('''La temperatura maxima de esta semana sera''', max(temperaturas_diciembre), '''ºC que ocurrira en''', t_maxx, '''dia(s). El dia mas frio\n",
    "      tendra una temperatura maxima de''', min(temperaturas_diciembre), '''ºC, que ocurrira en''', t_minn , '''dia(s)''')"
   ]
  }
 ],
 "metadata": {
  "kernelspec": {
   "display_name": "Python 3",
   "language": "python",
   "name": "python3"
  },
  "language_info": {
   "codemirror_mode": {
    "name": "ipython",
    "version": 3
   },
   "file_extension": ".py",
   "mimetype": "text/x-python",
   "name": "python",
   "nbconvert_exporter": "python",
   "pygments_lexer": "ipython3",
   "version": "3.11.5"
  }
 },
 "nbformat": 4,
 "nbformat_minor": 2
}
