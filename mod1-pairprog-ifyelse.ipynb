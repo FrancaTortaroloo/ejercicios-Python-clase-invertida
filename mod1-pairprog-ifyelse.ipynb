{
 "cells": [
  {
   "cell_type": "markdown",
   "metadata": {},
   "source": [
    "Verificar si un número es positivo, negativo o cero\n",
    "Descripción: Dado un número, verifica si es positivo, negativo o cero."
   ]
  },
  {
   "cell_type": "code",
   "execution_count": 2,
   "metadata": {},
   "outputs": [
    {
     "name": "stdout",
     "output_type": "stream",
     "text": [
      "es positivo\n"
     ]
    }
   ],
   "source": [
    "numero = int(input('Ingrese un número'))\n",
    "\n",
    "if numero == 0:\n",
    "    print(\"Ese numero es 0\")\n",
    "elif numero > 0:\n",
    "    print(\"es positivo\")\n",
    "else:\n",
    "    print(\"es negativo\")"
   ]
  },
  {
   "cell_type": "markdown",
   "metadata": {},
   "source": [
    "Verificar si un número es par o impar\n",
    "Descripción: Dado un número, verifica si es par o impar."
   ]
  },
  {
   "cell_type": "code",
   "execution_count": null,
   "metadata": {},
   "outputs": [
    {
     "name": "stdout",
     "output_type": "stream",
     "text": [
      "2\n",
      "El numero es par\n"
     ]
    }
   ],
   "source": [
    "numero = int(input('Inserte un número'))\n",
    "\n",
    "if numero %2 == 0:\n",
    "    print(numero)\n",
    "    print(\"El numero es par\")\n",
    "else:\n",
    "    print(numero)\n",
    "    print('El numero es impar')"
   ]
  },
  {
   "cell_type": "markdown",
   "metadata": {},
   "source": [
    "Verificar si un estudiante aprobó o suspendió un examen\n",
    "Descripción: Dada la calificación de un estudiante en un examen, verifica si aprobó o suspendió (si la calificación es mayor o igual a 60 se considera aprobado)."
   ]
  },
  {
   "cell_type": "code",
   "execution_count": null,
   "metadata": {},
   "outputs": [
    {
     "name": "stdout",
     "output_type": "stream",
     "text": [
      "40 reprobado\n"
     ]
    }
   ],
   "source": [
    "nota = int(input('Cual es la nota del alumno: '))\n",
    "\n",
    "if nota >= 60:\n",
    "    print(nota, 'Estas aprobado')   \n",
    "else:\n",
    "    print(nota, \"reprobado\")"
   ]
  },
  {
   "cell_type": "markdown",
   "metadata": {},
   "source": [
    "Calcular el máximo entre dos números\n",
    "Descripción: Dados dos números, encuentra el máximo entre ellos."
   ]
  },
  {
   "cell_type": "code",
   "execution_count": null,
   "metadata": {},
   "outputs": [
    {
     "name": "stdout",
     "output_type": "stream",
     "text": [
      "4 Es el mayor\n"
     ]
    }
   ],
   "source": [
    "numero1 = int(input('Ingrese el primer numero'))\n",
    "numero2 = int(input('Ingrese el segundo numero'))\n",
    "\n",
    "if numero1 < numero2:\n",
    "    print(numero2, \"Es el mayor\")\n",
    "else:\n",
    "    print(numero1, \"es el mayor\")"
   ]
  },
  {
   "cell_type": "markdown",
   "metadata": {},
   "source": [
    "Verificar si una letra es una vocal o una consonante\n",
    "Descripción: Dada una letra, verifica si es una vocal o una consonante."
   ]
  },
  {
   "cell_type": "code",
   "execution_count": 7,
   "metadata": {},
   "outputs": [
    {
     "name": "stdout",
     "output_type": "stream",
     "text": [
      "q es una consonante\n"
     ]
    }
   ],
   "source": [
    "letra = input(\"Ingrese una letra\")\n",
    "\n",
    "if letra == \"a\" or letra == \"e\" or letra == \"i\" or letra == \"o\" or letra == \"u\":\n",
    "    print(letra, \"es una vocal\")\n",
    "else:\n",
    "    print(letra, \"es una consonante\")"
   ]
  },
  {
   "cell_type": "markdown",
   "metadata": {},
   "source": [
    "Calcular el descuento en una compra según el monto total\n",
    "Descripción: Dado el monto total de una compra, calcula el descuento aplicado según las siguientes condiciones: si el monto es mayor o igual a $100, aplica un descuento del 10%; de lo contrario, no aplica ningún descuento."
   ]
  },
  {
   "cell_type": "code",
   "execution_count": 3,
   "metadata": {},
   "outputs": [
    {
     "name": "stdout",
     "output_type": "stream",
     "text": [
      "El descuento es de 22.0 €\n"
     ]
    }
   ],
   "source": [
    "compra = int(input(\"Ingesar el monto total de la compra \"))\n",
    "\n",
    "if compra >= 100:\n",
    "    descuento = compra * 0.10 \n",
    "    print(\"El descuento es de\", descuento, \"€\")\n",
    "else:\n",
    "    print(\"No aplica ningun descuento\")"
   ]
  },
  {
   "cell_type": "markdown",
   "metadata": {},
   "source": [
    "Verificar si un año es bisiesto o no\n",
    "Descripción: Dado un año, verifica si es bisiesto o no (un año es bisiesto si es divisible entre 4, excepto aquellos divisibles entre 100 pero no entre 400)."
   ]
  },
  {
   "cell_type": "code",
   "execution_count": 23,
   "metadata": {},
   "outputs": [
    {
     "name": "stdout",
     "output_type": "stream",
     "text": [
      "2023 no es un año bisiesto\n"
     ]
    }
   ],
   "source": [
    "anio = int(input('Inserte año'))\n",
    "\n",
    "if (anio % 4 == 0 and anio % 100 != 0) or anio % 400 == 0:\n",
    "    print(anio, \"es un año bisiesto\")\n",
    "else:\n",
    "    print(anio, \"no es un año bisiesto\")"
   ]
  },
  {
   "cell_type": "markdown",
   "metadata": {},
   "source": [
    "Asignar una categoría a una edad\n",
    "Descripción: Dada una edad, asigna una categoría según las siguientes condiciones: si la edad es menor de 18, la categoría es \"Menor de edad\"; si la edad está entre 18 y 64 (incluyendo ambos), la categoría es \"Adulto\"; de lo contrario, la categoría es \"Adulto mayor\"."
   ]
  },
  {
   "cell_type": "code",
   "execution_count": 13,
   "metadata": {},
   "outputs": [
    {
     "name": "stdout",
     "output_type": "stream",
     "text": [
      "65 es adulto mayor\n"
     ]
    }
   ],
   "source": [
    "edad = int(input(\"Ingrese su edad\"))\n",
    "\n",
    "if edad < 18:\n",
    "    print(edad, \"es menor de edad\")\n",
    "elif edad >= 18 and edad <= 64:\n",
    "    print(edad, \"Adulto\")\n",
    "else:\n",
    "    print(edad, \"es adulto mayor\")"
   ]
  },
  {
   "cell_type": "code",
   "execution_count": 3,
   "metadata": {},
   "outputs": [
    {
     "name": "stdout",
     "output_type": "stream",
     "text": [
      "69 Es adulto mayor\n"
     ]
    }
   ],
   "source": [
    "edad = int(input(\"Ingrese su edad\"))\n",
    "\n",
    "if edad <18:\n",
    "    categoria = \"menor de edad\"\n",
    "elif edad >= 18 and edad <= 64:\n",
    "    categoria = \"Adulto\"\n",
    "else:\n",
    "    categoria = \"Es adulto mayor\"\n",
    "    \n",
    "print(edad,categoria)"
   ]
  },
  {
   "cell_type": "markdown",
   "metadata": {},
   "source": [
    "Verificar si tres números forman un triángulo rectángulo\n",
    "Descripción: Dados tres números, verifica si forman un triángulo rectángulo (si se cumple el teorema de Pitágoras)."
   ]
  },
  {
   "cell_type": "markdown",
   "metadata": {},
   "source": [
    "pitagoras = a2 + b2 = h2 "
   ]
  },
  {
   "cell_type": "code",
   "execution_count": null,
   "metadata": {},
   "outputs": [],
   "source": [
    "lado1 = int(input(\"Ingrese el valor del lado1\"))\n",
    "lado2 = int(input(\"Ingrese el valor del lado 2\"))\n",
    "hipotenusa = int(input(\"Ingrese el valor de la Hipotenusa\"))\n",
    "\n",
    "resultado1 = (lado1 **2) + (lado2 **2)\n",
    "hipotenusa1 = hipotenusa **2 \n",
    "\n",
    "if resultado1 == hipotenusa1:\n",
    "    print(resultado1, hipotenusa1, \"forman un triángulo rectángulo\")\n",
    "else:\n",
    "    print(resultado1, hipotenusa1, \"no forman un triángulo rectángulo\")\n",
    "    \n"
   ]
  },
  {
   "cell_type": "markdown",
   "metadata": {},
   "source": [
    "Asignar una calificación a una puntuación\n",
    "Descripción: Dada una puntuación, asigna una calificación según las siguientes condiciones: si la puntuación es mayor o igual a 90, la calificación es \"A\"; si es mayor o igual a 80, la calificación es \"B\"; si es mayor o igual a 70, la calificación es \"C\"; si es mayor o igual a 60, la calificación es \"D\"; de lo contrario, la calificación es \"F\"."
   ]
  },
  {
   "cell_type": "code",
   "execution_count": 5,
   "metadata": {},
   "outputs": [
    {
     "name": "stdout",
     "output_type": "stream",
     "text": [
      "51 = F\n"
     ]
    }
   ],
   "source": [
    "puntuacion = int(input(\"Ingrese la puntuación: \"))\n",
    "\n",
    "if puntuacion >= 90:\n",
    "    print(puntuacion, \"= A\")\n",
    "elif puntuacion >= 80:\n",
    "    print(puntuacion, \"= B\")\n",
    "elif puntuacion >= 70:\n",
    "    print(puntuacion, \"= C\")\n",
    "elif puntuacion >= 60:\n",
    "    print(puntuacion, \"= D\")\n",
    "else:\n",
    "    print(puntuacion, \"= F\")"
   ]
  },
  {
   "cell_type": "markdown",
   "metadata": {},
   "source": [
    "Calcular el índice de masa corporal (IMC) y categorizarlo\n",
    "Descripción: Dados el peso (en kg) y la altura (en metros) de una persona, calcula su IMC y categorízalo según las siguientes condiciones: si el IMC es menor a 18.5, es \"Bajo peso\"; si está entre 18.5 y 24.9 (inclusive), es \"Peso normal\"; si está entre 25 y 29.9 (inclusive), es \"Sobrepeso\"; de lo contrario, es \"Obesidad\"."
   ]
  },
  {
   "cell_type": "code",
   "execution_count": 15,
   "metadata": {},
   "outputs": [
    {
     "name": "stdout",
     "output_type": "stream",
     "text": [
      "27.4 = Sobrepeso\n"
     ]
    }
   ],
   "source": [
    "peso = float(input(\"Ingrese el peso\"))\n",
    "altura = float(input(\"Ingrese la altura\"))\n",
    "\n",
    "calculo = round(peso / (altura **2),1)\n",
    "\n",
    "if calculo <= 18.5:\n",
    "    print(calculo, \"= Bajo de peso\")\n",
    "elif calculo >= 18.6 and calculo <= 24.9:\n",
    "    print(calculo, \"= Peso normal\")\n",
    "elif calculo >= 25 and calculo <= 29.9:\n",
    "    print(calculo, \"= Sobrepeso\")\n",
    "elif calculo >= 30:\n",
    "    print(calculo, \"= Obesidad\")"
   ]
  },
  {
   "cell_type": "markdown",
   "metadata": {},
   "source": [
    "Calcular el mayor de tres números\n",
    "Descripción: Dados tres números, encuentra el mayor entre ellos."
   ]
  },
  {
   "cell_type": "code",
   "execution_count": 18,
   "metadata": {},
   "outputs": [
    {
     "name": "stdout",
     "output_type": "stream",
     "text": [
      "3 es el mayor\n"
     ]
    }
   ],
   "source": [
    "num1 = int(input(\"Ingrese el primer numero\"))\n",
    "num2 = int(input(\"Ingrese el segundo numero\"))\n",
    "num3 = int(input(\"Ingrese el tercer numero\"))\n",
    "\n",
    "if num1 > num2 and num1 > num3:\n",
    "    print(num1, \"Es el mayor\")\n",
    "elif num2 > num1 and num2 > num3:\n",
    "    print(num2, \"es el mayor\")\n",
    "elif num3 > num1 and num3 > num2:\n",
    "    print(num3, \"es el mayor\")"
   ]
  },
  {
   "cell_type": "markdown",
   "metadata": {},
   "source": [
    "BONUS sentencias de control: Verificar la validez de una fecha\n",
    "Descripción: Dados el día, el mes y el año de una fecha, verifica si la fecha es válida."
   ]
  },
  {
   "cell_type": "code",
   "execution_count": null,
   "metadata": {},
   "outputs": [],
   "source": [
    "dia = (input(\"Ingrese el dia\"))\n",
    "mes = (input(\"Ingrese el mes con numeros, 01, 02, 03..12\"))\n",
    "anio = (input('Ingrese el año'))\n",
    "\n",
    "if dia >= \"1\" and dia <= \"31\":\n",
    "    if mes >= \"01\" and mes <= \"12\":\n",
    "        if anio >= \"1582\":\n",
    "            print(\"Es una fecha valida\")\n",
    "elif dia == \"31\" and mes == \"01\" or dia == \"31\" and mes == \"03\" or dia == \"31\" and mes == \"05\"            \n",
    "         "
   ]
  }
 ],
 "metadata": {
  "kernelspec": {
   "display_name": "Python 3",
   "language": "python",
   "name": "python3"
  },
  "language_info": {
   "codemirror_mode": {
    "name": "ipython",
    "version": 3
   },
   "file_extension": ".py",
   "mimetype": "text/x-python",
   "name": "python",
   "nbconvert_exporter": "python",
   "pygments_lexer": "ipython3",
   "version": "3.11.5"
  }
 },
 "nbformat": 4,
 "nbformat_minor": 2
}
